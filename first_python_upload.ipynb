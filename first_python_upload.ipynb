{
 "cells": [
  {
   "cell_type": "markdown",
   "id": "ef387c70-7df4-477d-b485-31a22836b30e",
   "metadata": {},
   "source": [
    "# python 코드 작성"
   ]
  },
  {
   "cell_type": "code",
   "execution_count": 1,
   "id": "48bcc50a-2691-46e9-b6e0-76d3220f44d3",
   "metadata": {},
   "outputs": [
    {
     "name": "stdout",
     "output_type": "stream",
     "text": [
      "Hello, github this is my first jupyter notebook upload\n"
     ]
    }
   ],
   "source": [
    "print(\"Hello, github this is my first jupyter notebook upload\")"
   ]
  },
  {
   "cell_type": "code",
   "execution_count": null,
   "id": "c5ca58d9-8865-4b81-9203-1f23235dd86c",
   "metadata": {},
   "outputs": [],
   "source": []
  }
 ],
 "metadata": {
  "kernelspec": {
   "display_name": "Python 3 (ipykernel)",
   "language": "python",
   "name": "python3"
  },
  "language_info": {
   "codemirror_mode": {
    "name": "ipython",
    "version": 3
   },
   "file_extension": ".py",
   "mimetype": "text/x-python",
   "name": "python",
   "nbconvert_exporter": "python",
   "pygments_lexer": "ipython3",
   "version": "3.12.4"
  }
 },
 "nbformat": 4,
 "nbformat_minor": 5
}
